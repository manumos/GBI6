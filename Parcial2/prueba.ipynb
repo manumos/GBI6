{
 "cells": [
  {
   "cell_type": "code",
   "execution_count": 11,
   "id": "84778675",
   "metadata": {},
   "outputs": [],
   "source": [
    "import datapub as msc"
   ]
  },
  {
   "cell_type": "code",
   "execution_count": 12,
   "id": "a8a0e054",
   "metadata": {},
   "outputs": [
    {
     "data": {
      "text/plain": [
       "['35120121', '35064679', '35047841', '35018222', '34962985', '34878103', '34233044', '34229490', '34165082', '34025776', '33846529', '33845910', '33822137', '33747978', '33668747', '33652915', '33574059', '33544737', '33503026', '33294020']"
      ]
     },
     "execution_count": 12,
     "metadata": {},
     "output_type": "execute_result"
    }
   ],
   "source": [
    "msc.download_pubmed('Ecuador genomics')"
   ]
  },
  {
   "cell_type": "code",
   "execution_count": 13,
   "id": "0d7ad80e",
   "metadata": {},
   "outputs": [
    {
     "name": "stdout",
     "output_type": "stream",
     "text": [
      "El numero de articulos es: 20\n",
      "El PMID del primer artículo es: \n",
      "['35064679']\n"
     ]
    }
   ],
   "source": [
    "\n",
    "#Ingresar el parametro keyword\n",
    "resultados=msc.download_pubmed(\"Ecuador genomics\")\n",
    "\n",
    "#usar la lista generada para contar el numero de articulos recabados\n",
    "print (\"El numero de articulos es: \"+str(len(resultados)))\n",
    "\n",
    "#usar la lista generada para obtener el primer PMID de la busqueda\n",
    "print (\"El PMID del primer artículo es: \")\n",
    "i=[1]\n",
    "element = []\n",
    "for index in i:\n",
    "    element.append(resultados[index])\n",
    "    print(element)"
   ]
  },
  {
   "cell_type": "code",
   "execution_count": null,
   "id": "3084d6f0",
   "metadata": {},
   "outputs": [],
   "source": []
  }
 ],
 "metadata": {
  "kernelspec": {
   "display_name": "Python 3 (ipykernel)",
   "language": "python",
   "name": "python3"
  },
  "language_info": {
   "codemirror_mode": {
    "name": "ipython",
    "version": 3
   },
   "file_extension": ".py",
   "mimetype": "text/x-python",
   "name": "python",
   "nbconvert_exporter": "python",
   "pygments_lexer": "ipython3",
   "version": "3.9.7"
  }
 },
 "nbformat": 4,
 "nbformat_minor": 5
}
