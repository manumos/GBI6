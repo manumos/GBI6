{
 "cells": [
  {
   "cell_type": "markdown",
   "metadata": {},
   "source": [
    "# Map of Science\n",
    "## Bioinformática\n",
    "### Manuela Moscoso Moreno\n",
    "### 16/02/2022"
   ]
  },
  {
   "cell_type": "markdown",
   "metadata": {},
   "source": [
    "### Recursos usados:\n",
    "Utilizé la búsqueda avanzada de Pubmed para buscar solo los títulos y países que me interesaban, en este caso el tem fue \"Nutraceuticals\".\n",
    "<img src=\"Capturas/busqueda.PNG\" />\n",
    "Posterior a haber realizado la búsqueda de cada país me descargué el historial de búsqueda en el cual constan la cantidad de resultados obtenidos.\n",
    "<img src=\"Capturas/historial.PNG\" />\n",
    "Por ser tan pocos datos los ingresé directamente en el plot, aunque también realizé un archivo CSV dentro de la carpeta, así como me descargué todos los resultados en el formato pubmed para constancia.\n",
    "<img src=\"Capturas/registro.PNG\" />\n",
    "Cabe destacar que también realizé parte del trabajo el bash para limpiar los archivos , sin embargo finalmente no usé esos archivos dado que se me hizo más simple copiar los datos al plot, de todas maneras están en el directorio de github.\n",
    "<img src=\"Capturas/bash.PNG\" />\n",
    "<img src=\"Capturas/nano.PNG\" />\n",
    "<img src=\"Capturas/nano1.PNG\" />\n"
   ]
  },
  {
   "cell_type": "code",
   "execution_count": 45,
   "metadata": {},
   "outputs": [
    {
     "data": {
      "image/png": "[encoded data removed]",
      "text/plain": [
       "<Figure size 432x288 with 2 Axes>"
      ]
     },
     "metadata": {
      "needs_background": "light"
     },
     "output_type": "display_data"
    }
   ],
   "source": [
    "import matplotlib.pyplot as plt\n",
    "%matplotlib inline\n",
    "plt.xlim(-180,180)\n",
    "plt.ylim(-180,180)\n",
    "ard = dict(arrowstyle=\"->\")\n",
    "#Australia\n",
    "plt.scatter(-25.274398, 133.775136, 23)\n",
    "plt.annotate('Australia', xy = (-30, 120))\n",
    "\n",
    "#Brazil\n",
    "plt.scatter(-14.235004,-51.92528, 26)\n",
    "plt.annotate('Brazil', xy = (-10,-45))\n",
    "#Canada\n",
    "plt.scatter(56.130366,-106.346771,40)\n",
    "plt.annotate('Canada', xy = (60,-110))\n",
    "\n",
    "#China\n",
    "plt.scatter(35.86166,104.195397,78)\n",
    "plt.annotate('China', xy = (40,95))\n",
    "\n",
    "#United States\n",
    "plt.scatter (37.09024,-95.712891,31)\n",
    "plt.annotate('United states', xy = (30,-90))\n",
    "\n",
    "#United Kingdom\n",
    "plt.scatter (55.378051,-3.435973,11)\n",
    "plt.annotate('United Kingdom', xy = (60,-10))\n",
    "\n",
    "#Norway\n",
    "plt.scatter (60.472024,8.468946,5)\n",
    "plt.annotate('Norway', xy = (65,10))\n",
    "plt.colorbar()\n",
    "params = plt.gcf()\n",
    "plSize = params.get_size_inches()\n",
    "params.set_size_inches( (plSize[0] * 1, plSize[1] * 1) )\n",
    "plt.show()"
   ]
  },
  {
   "cell_type": "markdown",
   "metadata": {},
   "source": [
    "# Comentarios\n",
    "Realmente creo que no se logró el objetivo al 100%, honestamente no logro entender el sistema de coordenadas y cual es el rango que debo colocar para que visualize \"todo el mundo\" rpobé con algunos rango pero no servía.\n",
    "Tampoco entiendo porque se han organizado de esta manera los países, he comprado en varias ocasiones que si están correctas las coordenadas.\n",
    "Finalmente me hubiera gustado saber como hacer más grandes los puntos de referencia para que se vea el color completamente.\n",
    "Quisiera también comentar que en el ejemplo del libro lo hace con varias locaciones cercanas a ciudadees específicas, por lo cual se obtienen mucho puntos. En este caso al solo ver el número de estudio en cada país (siendo el color el indicativo de esta tercera variable) no es muy notorio.\n",
    "## Nota adicional\n",
    "Me di cuenta que el mapa me salió de esta meanera ubicado....\n",
    "<img src=\"Capturas/mapa.PNG\" />\n"
   ]
  }
 ],
 "metadata": {
  "kernelspec": {
   "display_name": "Python 3 (ipykernel)",
   "language": "python",
   "name": "python3"
  },
  "language_info": {
   "codemirror_mode": {
    "name": "ipython",
    "version": 3
   },
   "file_extension": ".py",
   "mimetype": "text/x-python",
   "name": "python",
   "nbconvert_exporter": "python",
   "pygments_lexer": "ipython3",
   "version": "3.9.7"
  }
 },
 "nbformat": 4,
 "nbformat_minor": 1
}
