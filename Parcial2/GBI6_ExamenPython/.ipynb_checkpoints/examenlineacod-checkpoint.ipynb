{
 "cells": [
  {
   "cell_type": "code",
   "execution_count": 71,
   "id": "9be26545",
   "metadata": {},
   "outputs": [],
   "source": [
    "#PRIMERA FUNCION\n",
    "def download_pubmed(keyword):\n",
    "    \"\"\"Descargar la data de pubmed\"\"\"\n",
    "    \n",
    "    #importar paquetes\n",
    "    import Bio\n",
    "    from Bio import Entrez as en\n",
    "    from Bio import Medline as md\n",
    "    #notificar correo\n",
    "    en.email = \"manuela.moscoso@est.ikiam.edu.ec.com\"\n",
    "\n",
    "    #definir termino de busqueda\n",
    "    busqueda=keyword+\"[Title/Abstract]\"\n",
    "    \n",
    "    #realizar la busqueda\n",
    "    handle= en.esearch(db=\"pubmed\", term=busqueda)\n",
    "    record = en.read(handle)\n",
    "    return (record.get(\"IdList\"))\n",
    "\n"
   ]
  },
  {
   "cell_type": "code",
   "execution_count": 95,
   "id": "2688a5e7",
   "metadata": {
    "scrolled": false
   },
   "outputs": [
    {
     "name": "stdout",
     "output_type": "stream",
     "text": [
      "Help on function download_pubmed in module __main__:\n",
      "\n",
      "download_pubmed(keyword)\n",
      "    Descargar la data de pubmed\n",
      "\n",
      " El numero de articulos es: 20\n",
      "El PMID del primer artículo es: \n",
      "['35120121']\n"
     ]
    }
   ],
   "source": [
    "#EJERCICIO 2\n",
    "help (download_pubmed)\n",
    "resultados=download_pubmed(\"Ecuador genomic\")\n",
    "print (\"El numero de articulos es: \"+str(len(resultados)))\n",
    "print (\"El PMID del primer artículo es: \")\n",
    "i=[1]\n",
    "element = []\n",
    "for index in i:\n",
    "    element.append(resultados[index])\n",
    "    print(element)\n"
   ]
  },
  {
   "cell_type": "code",
   "execution_count": 17,
   "id": "27551baa",
   "metadata": {
    "scrolled": true
   },
   "outputs": [
    {
     "data": {
      "text/html": [
       "<div>\n",
       "<style scoped>\n",
       "    .dataframe tbody tr th:only-of-type {\n",
       "        vertical-align: middle;\n",
       "    }\n",
       "\n",
       "    .dataframe tbody tr th {\n",
       "        vertical-align: top;\n",
       "    }\n",
       "\n",
       "    .dataframe thead th {\n",
       "        text-align: right;\n",
       "    }\n",
       "</style>\n",
       "<table border=\"1\" class=\"dataframe\">\n",
       "  <thead>\n",
       "    <tr style=\"text-align: right;\">\n",
       "      <th></th>\n",
       "      <th>country</th>\n",
       "      <th>num_auth</th>\n",
       "    </tr>\n",
       "  </thead>\n",
       "  <tbody>\n",
       "    <tr>\n",
       "      <th>18</th>\n",
       "      <td>United States</td>\n",
       "      <td>38</td>\n",
       "    </tr>\n",
       "    <tr>\n",
       "      <th>19</th>\n",
       "      <td>England</td>\n",
       "      <td>10</td>\n",
       "    </tr>\n",
       "  </tbody>\n",
       "</table>\n",
       "</div>"
      ],
      "text/plain": [
       "          country  num_auth\n",
       "18  United States        38\n",
       "19        England        10"
      ]
     },
     "execution_count": 17,
     "metadata": {},
     "output_type": "execute_result"
    }
   ],
   "source": [
    "#importar paquetes\n",
    "import Bio\n",
    "from Bio import Entrez as en\n",
    "from Bio import Medline as md\n",
    "import pandas as pd\n",
    "import numpy as np\n",
    "import re\n",
    "#notificar correo\n",
    "en.email = \"manuela.moscoso@est.ikiam.edu.ec.com\"\n",
    "\n",
    "keyword=\"Ecuador genomic\"\n",
    "#definir termino de busqueda\n",
    "busqueda=keyword+\"[Title/Abstract]\"\n",
    "    \n",
    "#realizar la busqueda\n",
    "handle= en.esearch(db=\"pubmed\", term=busqueda)\n",
    "record = en.read(handle)\n",
    "idlist = record[\"IdList\"]\n",
    "handle = en.efetch(db=\"pubmed\", id=idlist, rettype=\"medline\", retmode=\"text\")\n",
    "    \n",
    "#almacenar los resultados para su manipulacion\n",
    "records=md.parse(handle)\n",
    "\n",
    "#crear las listas con los resultados\n",
    "pmid_dict=[]\n",
    "au_dict=[]\n",
    "ad_dict=[]\n",
    "dp_dict=[]\n",
    "for record in records:\n",
    "    \n",
    "    #mostrar los pmids\n",
    "    pubmedid=record['PMID']\n",
    "    pmid_dict.append(pubmedid)\n",
    "    \n",
    "    #mostrar los autores\n",
    "    autores=record['AU']\n",
    "    au_dict.append(autores)\n",
    "    \n",
    "    #mostrar los paises\n",
    "    paises=record['PL'] #He estado usando AD y me da SYNTAX ERROR\n",
    "    ad_dict.append(paises)\n",
    "    \n",
    "    #mostrar la fecha\n",
    "    fecha=record['DP']\n",
    "    dp_dict.append(fecha)\n",
    "    \n",
    "#generar la sumatoria de autores\n",
    "contador=[len (i) for i in au_dict ]\n",
    "#crear los data frames a partir de las listas obtenidas\n",
    "df_fecha=pd.DataFrame(list(zip(pmid_dict,dp_dict)),columns=['PMID','DP_year'])\n",
    "df_autores=pd.DataFrame(list(zip(pmid_dict,contador)),columns=['PMID','num_auth'])\n",
    "df_paises=pd.DataFrame(list(zip(ad_dict,contador)),columns=['country','num_auth'])\n"
   ]
  },
  {
   "cell_type": "code",
   "execution_count": 18,
   "id": "7d832800",
   "metadata": {},
   "outputs": [
    {
     "data": {
      "text/html": [
       "<div>\n",
       "<style scoped>\n",
       "    .dataframe tbody tr th:only-of-type {\n",
       "        vertical-align: middle;\n",
       "    }\n",
       "\n",
       "    .dataframe tbody tr th {\n",
       "        vertical-align: top;\n",
       "    }\n",
       "\n",
       "    .dataframe thead th {\n",
       "        text-align: right;\n",
       "    }\n",
       "</style>\n",
       "<table border=\"1\" class=\"dataframe\">\n",
       "  <thead>\n",
       "    <tr style=\"text-align: right;\">\n",
       "      <th></th>\n",
       "      <th>country</th>\n",
       "      <th>num_auth</th>\n",
       "    </tr>\n",
       "  </thead>\n",
       "  <tbody>\n",
       "    <tr>\n",
       "      <th>18</th>\n",
       "      <td>United States</td>\n",
       "      <td>38</td>\n",
       "    </tr>\n",
       "    <tr>\n",
       "      <th>19</th>\n",
       "      <td>England</td>\n",
       "      <td>10</td>\n",
       "    </tr>\n",
       "  </tbody>\n",
       "</table>\n",
       "</div>"
      ],
      "text/plain": [
       "          country  num_auth\n",
       "18  United States        38\n",
       "19        England        10"
      ]
     },
     "execution_count": 18,
     "metadata": {},
     "output_type": "execute_result"
    }
   ],
   "source": [
    "#EJERCICIO3\n",
    "pub_year=df_fecha\n",
    "pub_authors=df_autores\n",
    "coutries=df_paises\n",
    "\n",
    "\n",
    "print=pub_year.head(2)\n",
    "pub_year.tail(2)\n",
    "pub_authors.head(2)\n",
    "pub_authors.tail(2)\n",
    "coutries.head(2)\n",
    "coutries.tail(2)"
   ]
  },
  {
   "cell_type": "code",
   "execution_count": 19,
   "id": "1e3accf8",
   "metadata": {},
   "outputs": [
    {
     "ename": "ValueError",
     "evalue": "X must have 2 or fewer dimensions",
     "output_type": "error",
     "traceback": [
      "\u001b[1;31m---------------------------------------------------------------------------\u001b[0m",
      "\u001b[1;31mValueError\u001b[0m                                Traceback (most recent call last)",
      "\u001b[1;32m~\\AppData\\Local\\Temp/ipykernel_17836/475446269.py\u001b[0m in \u001b[0;36m<module>\u001b[1;34m\u001b[0m\n\u001b[0;32m     21\u001b[0m \u001b[1;33m\u001b[0m\u001b[0m\n\u001b[0;32m     22\u001b[0m \u001b[1;31m# Create the boxplot\u001b[0m\u001b[1;33m\u001b[0m\u001b[1;33m\u001b[0m\u001b[0m\n\u001b[1;32m---> 23\u001b[1;33m \u001b[0mbp\u001b[0m \u001b[1;33m=\u001b[0m \u001b[0max\u001b[0m\u001b[1;33m.\u001b[0m\u001b[0mboxplot\u001b[0m\u001b[1;33m(\u001b[0m\u001b[0mdata\u001b[0m\u001b[1;33m)\u001b[0m\u001b[1;33m\u001b[0m\u001b[1;33m\u001b[0m\u001b[0m\n\u001b[0m\u001b[0;32m     24\u001b[0m \u001b[0mplt\u001b[0m\u001b[1;33m.\u001b[0m\u001b[0mxlabel\u001b[0m\u001b[1;33m(\u001b[0m\u001b[1;34m'Experimentos'\u001b[0m\u001b[1;33m)\u001b[0m\u001b[1;33m\u001b[0m\u001b[1;33m\u001b[0m\u001b[0m\n\u001b[0;32m     25\u001b[0m \u001b[0mplt\u001b[0m\u001b[1;33m.\u001b[0m\u001b[0mylabel\u001b[0m\u001b[1;33m(\u001b[0m\u001b[1;34m'Distribución'\u001b[0m\u001b[1;33m)\u001b[0m\u001b[1;33m\u001b[0m\u001b[1;33m\u001b[0m\u001b[0m\n",
      "\u001b[1;32m~\\anaconda3\\lib\\site-packages\\matplotlib\\__init__.py\u001b[0m in \u001b[0;36minner\u001b[1;34m(ax, data, *args, **kwargs)\u001b[0m\n\u001b[0;32m   1359\u001b[0m     \u001b[1;32mdef\u001b[0m \u001b[0minner\u001b[0m\u001b[1;33m(\u001b[0m\u001b[0max\u001b[0m\u001b[1;33m,\u001b[0m \u001b[1;33m*\u001b[0m\u001b[0margs\u001b[0m\u001b[1;33m,\u001b[0m \u001b[0mdata\u001b[0m\u001b[1;33m=\u001b[0m\u001b[1;32mNone\u001b[0m\u001b[1;33m,\u001b[0m \u001b[1;33m**\u001b[0m\u001b[0mkwargs\u001b[0m\u001b[1;33m)\u001b[0m\u001b[1;33m:\u001b[0m\u001b[1;33m\u001b[0m\u001b[1;33m\u001b[0m\u001b[0m\n\u001b[0;32m   1360\u001b[0m         \u001b[1;32mif\u001b[0m \u001b[0mdata\u001b[0m \u001b[1;32mis\u001b[0m \u001b[1;32mNone\u001b[0m\u001b[1;33m:\u001b[0m\u001b[1;33m\u001b[0m\u001b[1;33m\u001b[0m\u001b[0m\n\u001b[1;32m-> 1361\u001b[1;33m             \u001b[1;32mreturn\u001b[0m \u001b[0mfunc\u001b[0m\u001b[1;33m(\u001b[0m\u001b[0max\u001b[0m\u001b[1;33m,\u001b[0m \u001b[1;33m*\u001b[0m\u001b[0mmap\u001b[0m\u001b[1;33m(\u001b[0m\u001b[0msanitize_sequence\u001b[0m\u001b[1;33m,\u001b[0m \u001b[0margs\u001b[0m\u001b[1;33m)\u001b[0m\u001b[1;33m,\u001b[0m \u001b[1;33m**\u001b[0m\u001b[0mkwargs\u001b[0m\u001b[1;33m)\u001b[0m\u001b[1;33m\u001b[0m\u001b[1;33m\u001b[0m\u001b[0m\n\u001b[0m\u001b[0;32m   1362\u001b[0m \u001b[1;33m\u001b[0m\u001b[0m\n\u001b[0;32m   1363\u001b[0m         \u001b[0mbound\u001b[0m \u001b[1;33m=\u001b[0m \u001b[0mnew_sig\u001b[0m\u001b[1;33m.\u001b[0m\u001b[0mbind\u001b[0m\u001b[1;33m(\u001b[0m\u001b[0max\u001b[0m\u001b[1;33m,\u001b[0m \u001b[1;33m*\u001b[0m\u001b[0margs\u001b[0m\u001b[1;33m,\u001b[0m \u001b[1;33m**\u001b[0m\u001b[0mkwargs\u001b[0m\u001b[1;33m)\u001b[0m\u001b[1;33m\u001b[0m\u001b[1;33m\u001b[0m\u001b[0m\n",
      "\u001b[1;32m~\\anaconda3\\lib\\site-packages\\matplotlib\\axes\\_axes.py\u001b[0m in \u001b[0;36mboxplot\u001b[1;34m(self, x, notch, sym, vert, whis, positions, widths, patch_artist, bootstrap, usermedians, conf_intervals, meanline, showmeans, showcaps, showbox, showfliers, boxprops, labels, flierprops, medianprops, meanprops, capprops, whiskerprops, manage_ticks, autorange, zorder)\u001b[0m\n\u001b[0;32m   3743\u001b[0m             \u001b[0mbootstrap\u001b[0m \u001b[1;33m=\u001b[0m \u001b[0mrcParams\u001b[0m\u001b[1;33m[\u001b[0m\u001b[1;34m'boxplot.bootstrap'\u001b[0m\u001b[1;33m]\u001b[0m\u001b[1;33m\u001b[0m\u001b[1;33m\u001b[0m\u001b[0m\n\u001b[0;32m   3744\u001b[0m \u001b[1;33m\u001b[0m\u001b[0m\n\u001b[1;32m-> 3745\u001b[1;33m         bxpstats = cbook.boxplot_stats(x, whis=whis, bootstrap=bootstrap,\n\u001b[0m\u001b[0;32m   3746\u001b[0m                                        labels=labels, autorange=autorange)\n\u001b[0;32m   3747\u001b[0m         \u001b[1;32mif\u001b[0m \u001b[0mnotch\u001b[0m \u001b[1;32mis\u001b[0m \u001b[1;32mNone\u001b[0m\u001b[1;33m:\u001b[0m\u001b[1;33m\u001b[0m\u001b[1;33m\u001b[0m\u001b[0m\n",
      "\u001b[1;32m~\\anaconda3\\lib\\site-packages\\matplotlib\\cbook\\__init__.py\u001b[0m in \u001b[0;36mboxplot_stats\u001b[1;34m(X, whis, bootstrap, labels, autorange)\u001b[0m\n\u001b[0;32m   1188\u001b[0m \u001b[1;33m\u001b[0m\u001b[0m\n\u001b[0;32m   1189\u001b[0m     \u001b[1;31m# convert X to a list of lists\u001b[0m\u001b[1;33m\u001b[0m\u001b[1;33m\u001b[0m\u001b[0m\n\u001b[1;32m-> 1190\u001b[1;33m     \u001b[0mX\u001b[0m \u001b[1;33m=\u001b[0m \u001b[0m_reshape_2D\u001b[0m\u001b[1;33m(\u001b[0m\u001b[0mX\u001b[0m\u001b[1;33m,\u001b[0m \u001b[1;34m\"X\"\u001b[0m\u001b[1;33m)\u001b[0m\u001b[1;33m\u001b[0m\u001b[1;33m\u001b[0m\u001b[0m\n\u001b[0m\u001b[0;32m   1191\u001b[0m \u001b[1;33m\u001b[0m\u001b[0m\n\u001b[0;32m   1192\u001b[0m     \u001b[0mncols\u001b[0m \u001b[1;33m=\u001b[0m \u001b[0mlen\u001b[0m\u001b[1;33m(\u001b[0m\u001b[0mX\u001b[0m\u001b[1;33m)\u001b[0m\u001b[1;33m\u001b[0m\u001b[1;33m\u001b[0m\u001b[0m\n",
      "\u001b[1;32m~\\anaconda3\\lib\\site-packages\\matplotlib\\cbook\\__init__.py\u001b[0m in \u001b[0;36m_reshape_2D\u001b[1;34m(X, name)\u001b[0m\n\u001b[0;32m   1431\u001b[0m         \u001b[0mnd\u001b[0m \u001b[1;33m=\u001b[0m \u001b[0mnp\u001b[0m\u001b[1;33m.\u001b[0m\u001b[0mndim\u001b[0m\u001b[1;33m(\u001b[0m\u001b[0mxi\u001b[0m\u001b[1;33m)\u001b[0m\u001b[1;33m\u001b[0m\u001b[1;33m\u001b[0m\u001b[0m\n\u001b[0;32m   1432\u001b[0m         \u001b[1;32mif\u001b[0m \u001b[0mnd\u001b[0m \u001b[1;33m>\u001b[0m \u001b[1;36m1\u001b[0m\u001b[1;33m:\u001b[0m\u001b[1;33m\u001b[0m\u001b[1;33m\u001b[0m\u001b[0m\n\u001b[1;32m-> 1433\u001b[1;33m             \u001b[1;32mraise\u001b[0m \u001b[0mValueError\u001b[0m\u001b[1;33m(\u001b[0m\u001b[1;34mf'{name} must have 2 or fewer dimensions'\u001b[0m\u001b[1;33m)\u001b[0m\u001b[1;33m\u001b[0m\u001b[1;33m\u001b[0m\u001b[0m\n\u001b[0m\u001b[0;32m   1434\u001b[0m         \u001b[0mresult\u001b[0m\u001b[1;33m.\u001b[0m\u001b[0mappend\u001b[0m\u001b[1;33m(\u001b[0m\u001b[0mxi\u001b[0m\u001b[1;33m.\u001b[0m\u001b[0mreshape\u001b[0m\u001b[1;33m(\u001b[0m\u001b[1;33m-\u001b[0m\u001b[1;36m1\u001b[0m\u001b[1;33m)\u001b[0m\u001b[1;33m)\u001b[0m\u001b[1;33m\u001b[0m\u001b[1;33m\u001b[0m\u001b[0m\n\u001b[0;32m   1435\u001b[0m \u001b[1;33m\u001b[0m\u001b[0m\n",
      "\u001b[1;31mValueError\u001b[0m: X must have 2 or fewer dimensions"
     ]
    },
    {
     "data": {
      "image/png": "[encoded data removed]",
      "text/plain": [
       "<Figure size 648x432 with 1 Axes>"
      ]
     },
     "metadata": {
      "needs_background": "light"
     },
     "output_type": "display_data"
    }
   ],
   "source": [
    "# for matplotlib to work smoothly with Jupyter notebooks the following \"Magic\" is required:\n",
    "%matplotlib inline\n",
    "# librerias\n",
    "import numpy as np\n",
    "import matplotlib.pyplot as plt\n",
    "import matplotlib.mlab as mlab\n",
    "import math\n",
    "import seaborn as sns\n",
    "import pandas as pd\n",
    "\n",
    "##pub_authors: realice un boxplot del conteo de autores por artículo\n",
    "#Coloque las leyendas adecuadas para cada eje y el título.\n",
    "\n",
    "experimento1 = np.random.normal(0, np.sqrt(0.2), 1000)\n",
    "experimento2 = np.random.normal(0, np.sqrt(1.0), 1000)\n",
    "experimento3 = np.random.normal(0, np.sqrt(5.0), 1000)\n",
    "experimento4 = np.random.normal(-2, np.sqrt(0.5), 1000)\n",
    "\n",
    "data = [experimento1, experimento2, experimento3, experimento4]\n",
    "\n",
    "# Create a figure instance\n",
    "fig = plt.figure(1, figsize=(9, 6))  # valores en inch (pulgada)\n",
    "\n",
    "# Create an axes instance\n",
    "ax = fig.add_subplot(111)\n",
    "\n",
    "# Create the boxplot\n",
    "bp = ax.boxplot(data)\n",
    "plt.xlabel('Experimentos')\n",
    "plt.ylabel('Distribución')\n",
    "plt.title('Boxplots de distribuciones normales')\n",
    "plt.show()"
   ]
  },
  {
   "cell_type": "code",
   "execution_count": 11,
   "id": "20f02675",
   "metadata": {},
   "outputs": [],
   "source": [
    "#importar paquetes\n",
    "import Bio\n",
    "from Bio import Entrez as en\n",
    "from Bio import Medline as md\n",
    "import pandas as pd\n",
    "import numpy as np\n",
    "import re\n",
    "#notificar correo\n",
    "en.email = \"manuela.moscoso@est.ikiam.edu.ec.com\"\n",
    "\n",
    "keyword=\"Ecuador genomic\"\n",
    "#definir termino de busqueda\n",
    "busqueda=keyword+\"[Title/Abstract]\"\n",
    "    \n",
    "#realizar la busqueda\n",
    "handle= en.esearch(db=\"pubmed\", term=busqueda)\n",
    "record = en.read(handle)\n",
    "idlist = record[\"IdList\"]\n",
    "handle = en.efetch(db=\"pubmed\", id=idlist, rettype=\"medline\", retmode=\"text\")\n",
    "    \n",
    "#almacenar los resultados para su manipulacion\n",
    "records=md.parse(handle)\n",
    "for record in records:\n",
    "    datos= record['PMID']\n",
    "    \n",
    "   "
   ]
  },
  {
   "cell_type": "code",
   "execution_count": 12,
   "id": "67ba8dfd",
   "metadata": {},
   "outputs": [
    {
     "data": {
      "text/plain": [
       "'33846529'"
      ]
     },
     "execution_count": 12,
     "metadata": {},
     "output_type": "execute_result"
    }
   ],
   "source": [
    "datos"
   ]
  },
  {
   "cell_type": "code",
   "execution_count": 6,
   "id": "b16fefa8",
   "metadata": {
    "scrolled": false
   },
   "outputs": [
    {
     "data": {
      "text/html": [
       "<div>\n",
       "<style scoped>\n",
       "    .dataframe tbody tr th:only-of-type {\n",
       "        vertical-align: middle;\n",
       "    }\n",
       "\n",
       "    .dataframe tbody tr th {\n",
       "        vertical-align: top;\n",
       "    }\n",
       "\n",
       "    .dataframe thead th {\n",
       "        text-align: right;\n",
       "    }\n",
       "</style>\n",
       "<table border=\"1\" class=\"dataframe\">\n",
       "  <thead>\n",
       "    <tr style=\"text-align: right;\">\n",
       "      <th></th>\n",
       "      <th>country</th>\n",
       "      <th>num_auth</th>\n",
       "    </tr>\n",
       "  </thead>\n",
       "  <tbody>\n",
       "    <tr>\n",
       "      <th>0</th>\n",
       "      <td>United States</td>\n",
       "      <td>5</td>\n",
       "    </tr>\n",
       "    <tr>\n",
       "      <th>1</th>\n",
       "      <td>United States</td>\n",
       "      <td>14</td>\n",
       "    </tr>\n",
       "  </tbody>\n",
       "</table>\n",
       "</div>"
      ],
      "text/plain": [
       "         country  num_auth\n",
       "0  United States         5\n",
       "1  United States        14"
      ]
     },
     "execution_count": 6,
     "metadata": {},
     "output_type": "execute_result"
    }
   ],
   "source": [
    "df_paises.head(2)"
   ]
  },
  {
   "cell_type": "code",
   "execution_count": 36,
   "id": "c85e8f4a",
   "metadata": {},
   "outputs": [],
   "source": [
    "import funcionpub as fp"
   ]
  },
  {
   "cell_type": "code",
   "execution_count": 37,
   "id": "ed13c7cb",
   "metadata": {},
   "outputs": [
    {
     "name": "stdout",
     "output_type": "stream",
     "text": [
      "['3', '5', '1', '2', '0', '1', '2', '1', '35120121', '3', '5', '0', '6', '4', '6', '7', '9', '35064679', '3', '5', '0', '4', '7', '8', '4', '1', '35047841', '3', '5', '0', '1', '8', '2', '2', '2', '35018222', '3', '4', '9', '6', '2', '9', '8', '5', '34962985', '3', '4', '8', '7', '8', '1', '0', '3', '34878103', '3', '4', '2', '3', '3', '0', '4', '4', '34233044', '3', '4', '2', '2', '9', '4', '9', '0', '34229490', '3', '4', '1', '6', '5', '0', '8', '2', '34165082', '3', '4', '0', '2', '5', '7', '7', '6', '34025776', '3', '3', '8', '4', '6', '5', '2', '9', '33846529', '3', '3', '8', '4', '5', '9', '1', '0', '33845910', '3', '3', '8', '2', '2', '1', '3', '7', '33822137', '3', '3', '7', '4', '7', '9', '7', '8', '33747978', '3', '3', '6', '6', '8', '7', '4', '7', '33668747', '3', '3', '6', '5', '2', '9', '1', '5', '33652915', '3', '3', '5', '7', '4', '0', '5', '9', '33574059', '3', '3', '5', '4', '4', '7', '3', '7', '33544737', '3', '3', '5', '0', '3', '0', '2', '6', '33503026', '3', '3', '2', '9', '4', '0', '2', '0', '33294020']\n"
     ]
    }
   ],
   "source": [
    "fp.mining_pubs(\"Ecuador genomics\",\"DP\")"
   ]
  },
  {
   "cell_type": "code",
   "execution_count": 38,
   "id": "c681ca38",
   "metadata": {},
   "outputs": [
    {
     "ename": "ModuleNotFoundError",
     "evalue": "No module named 'datapub'",
     "output_type": "error",
     "traceback": [
      "\u001b[1;31m---------------------------------------------------------------------------\u001b[0m",
      "\u001b[1;31mModuleNotFoundError\u001b[0m                       Traceback (most recent call last)",
      "\u001b[1;32m~\\AppData\\Local\\Temp/ipykernel_17836/2037819506.py\u001b[0m in \u001b[0;36m<module>\u001b[1;34m\u001b[0m\n\u001b[1;32m----> 1\u001b[1;33m \u001b[1;32mimport\u001b[0m \u001b[0mdatapub\u001b[0m \u001b[1;32mas\u001b[0m \u001b[0mdp\u001b[0m\u001b[1;33m\u001b[0m\u001b[1;33m\u001b[0m\u001b[0m\n\u001b[0m",
      "\u001b[1;31mModuleNotFoundError\u001b[0m: No module named 'datapub'"
     ]
    }
   ],
   "source": [
    "import datapub as dp"
   ]
  }
 ],
 "metadata": {
  "kernelspec": {
   "display_name": "Python 3 (ipykernel)",
   "language": "python",
   "name": "python3"
  },
  "language_info": {
   "codemirror_mode": {
    "name": "ipython",
    "version": 3
   },
   "file_extension": ".py",
   "mimetype": "text/x-python",
   "name": "python",
   "nbconvert_exporter": "python",
   "pygments_lexer": "ipython3",
   "version": "3.9.7"
  }
 },
 "nbformat": 4,
 "nbformat_minor": 5
}
