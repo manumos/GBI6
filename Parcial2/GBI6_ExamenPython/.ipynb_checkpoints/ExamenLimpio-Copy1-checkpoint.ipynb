{
 "cells": [
  {
   "cell_type": "markdown",
   "metadata": {},
   "source": [
    "<img src=\"https://www.ikiam.edu.ec/img/logo-ikiam-grey.png\" width=300 height=240 />\n",
    "\n",
    "# EXAMEN PARCIAL PYTHON (2do intento)\n",
    "    \n",
    "\n",
    "## GBI6-2021II: BIOINFORMÁTICA\n",
    "\n",
    "**Moscoso, Manuela** <--- CAMBIE POR LOS QUE CORRESPONDA A SUS DATOS\n",
    "\n",
    "**18-02-2021**"
   ]
  },
  {
   "cell_type": "markdown",
   "metadata": {},
   "source": [
    "<font color='red'>NO AGREGUE NUEVAS CELDAS, UTILICE ÚNICAMENTE LAS QUE ESTÁN CREADAS</font>\n"
   ]
  },
  {
   "cell_type": "markdown",
   "metadata": {},
   "source": [
    "### REQUERIMIENTOS PARA EL EXAMEN\n",
    "Para este examen se requiere dos documentos: \n",
    "\n",
    "1. Archivo ```miningscience.py``` donde tendrá dos funciones:\n",
    "\n",
    "2. Archivo ```2021II_GBI6_ExamenParcialPython``` donde se llamará las funciones y se obtendrá resultados."
   ]
  },
  {
   "cell_type": "markdown",
   "metadata": {},
   "source": [
    "## Ejercicio 1 [2 puntos]\n",
    "Cree el archivo ```miningscience.py``` con las siguientes dos funciones:\n",
    "    \n",
    "i. ```download_pubmed```: para descargar la data de PubMed utilizando el **ENTREZ** de Biopython. El parámetro de entrada para la función es el ```keyword```. \n",
    "    \n",
    "ii. ```mining_pubs```: esta función debe utilizar el módulo **re** y utilizar el párametro ```tipo``` para realizar lo siguiente:\n",
    "        \n",
    "* Si el tipo es \"DP\" recupera el año de publicación del artículo. El retorno es un *dataframe* con el **PMID** y el **DP_year**.\n",
    "      \n",
    "* Si el tipo es \"AU\" recupera el número de autores por **PMID**. El retorno es un *dataframe* con el **PMID** y el **num_auth**. \n",
    "      \n",
    "* Si el tipo es \"AD\" recupera el conteo de autores por país. El retorno es un *dataframe* con el **country** y el **num_auth**. \n",
    "\n",
    "* *Puede utilizar un ```if``` dentro de la función.* \n",
    "\n",
    "* *Cree un docstring para cada función.* \n",
    "\n",
    "Luego de crear las funciones, cargue el módulo ```miningscience``` como ```msc``` e imprima docstring de cada función.\n",
    "\n",
    "\n"
   ]
  },
  {
   "cell_type": "code",
   "execution_count": 57,
   "metadata": {
    "scrolled": true
   },
   "outputs": [
    {
     "name": "stdout",
     "output_type": "stream",
     "text": [
      "Help on function download_pubmed in module datapub:\n",
      "\n",
      "download_pubmed(keyword)\n",
      "    Descargar la data de pubmed\n",
      "    -Parametros\n",
      "        keyword= string con el termino de busqueda\n",
      "    -Output\n",
      "        Lista que contiene los IDs de los resultados encontrados\n",
      "\n",
      "Help on function mining_pubs in module datapub:\n",
      "\n",
      "mining_pubs(keyword, tipo)\n",
      "    Generar data frames para las variables introducidas\n",
      "    -Parametros\n",
      "        keyword= string con el termino de busqueda\n",
      "        tipo=Sring con el codigo para obtener infromacion especifica de cada resultado\n",
      "              'AD' = Afiliacion\n",
      "              'PD' = Fecha de publicacion\n",
      "              'AU' = Autores\n",
      "    -Output\n",
      "        *Si el tipo es \"DP\" recupera el año de publicación del artículo. El retorno es un dataframe con el PMID y el DP_year.\n",
      "        *Si el tipo es \"AU\" recupera el número de autores por PMID. El retorno es un dataframe con el PMID y el num_auth.\n",
      "        *Si el tipo es \"AD\" recupera el conteo de autores por país. El retorno es un dataframe con el country y el num_auth.\n",
      "\n"
     ]
    }
   ],
   "source": [
    "#EJERCICIO 1\n",
    "#import miningscience as msc\n",
    "import datapub as msc\n",
    "\n",
    "#Imprimir Docstrings\n",
    "help (msc.download_pubmed)\n",
    "help (msc.mining_pubs)\n"
   ]
  },
  {
   "cell_type": "markdown",
   "metadata": {},
   "source": [
    "\n",
    "## Ejercicio 2 [1 punto]\n",
    "\n",
    "\n",
    "Utilice la función ```download_pubmed``` para descargar la data con el keyword ```Ecuador genomics``` e imprima lo siguiente: \n",
    "\n",
    "```python\n",
    "'El número de artículos es: xx' # xx corresponde al número de artículos recuperados\n",
    "\n",
    "'El PMID del primer artículo es: xxxxxxxx' # xxxxxxxx corresponde al ID del artículo en PUDMED\n",
    "\n",
    "```"
   ]
  },
  {
   "cell_type": "code",
   "execution_count": 58,
   "metadata": {},
   "outputs": [
    {
     "name": "stdout",
     "output_type": "stream",
     "text": [
      "El numero de articulos es: 20\n",
      "El PMID del primer artículo es: \n",
      "['35064679']\n"
     ]
    }
   ],
   "source": [
    "\n",
    "#Ingresar el parametro keyword\n",
    "resultados=msc.download_pubmed(\"Ecuador genomics\")\n",
    "\n",
    "#usar la lista generada para contar el numero de articulos recabados\n",
    "print (\"El numero de articulos es: \"+str(len(resultados)))\n",
    "\n",
    "#usar la lista generada para obtener el primer PMID de la busqueda\n",
    "print (\"El PMID del primer artículo es: \")\n",
    "i=[1]\n",
    "element = []\n",
    "for index in i:\n",
    "    element.append(resultados[index])\n",
    "    print(element)"
   ]
  },
  {
   "cell_type": "markdown",
   "metadata": {},
   "source": [
    "## Ejercicio 3 [1 punto]\n",
    "\n",
    "Utilice la función ```mining_pubs``` para crear los siguientes dataframes: \n",
    "\n",
    "* pub_year\n",
    "\n",
    "* pub_authors\n",
    "\n",
    "* coutries\n",
    "\n",
    "Muestre los dos primeros y los dos últimos registros de cada dataframe. "
   ]
  },
  {
   "cell_type": "code",
   "execution_count": 163,
   "metadata": {},
   "outputs": [],
   "source": [
    "#importar paquetes\n",
    "import Bio\n",
    "from Bio import Entrez as en\n",
    "from Bio import Medline as md\n",
    "import pandas as pd\n",
    "import numpy as np\n",
    "import re\n",
    "#notificar correo\n",
    "en.email = \"manuela.moscoso@est.ikiam.edu.ec.com\"\n",
    "\n",
    "keyword=\"Ecuador genomic\"\n",
    "\n",
    "#definir termino de busqueda\n",
    "busqueda=keyword+\"[Title/Abstract]\"\n",
    "    \n",
    "#realizar la busqueda\n",
    "handle= en.esearch(db=\"pubmed\", term=busqueda, usehistory=\"y\",retmax=830)\n",
    "record = en.read(handle)\n",
    "idlist = record[\"IdList\"]\n",
    "handle = en.efetch(db=\"pubmed\", id=idlist, rettype=\"medline\", retmode=\"text\")\n",
    "    \n",
    "#almacenar los resultados para su manipulacion\n",
    "records=md.parse(handle)\n",
    "\n",
    "#crear las listas con los resultados\n",
    "pmid_dict=[]\n",
    "au_dict=[]\n",
    "ad_dict=[]\n",
    "dp_dict=[]\n",
    "\n",
    "for record in records:\n",
    "    \n",
    "    #mostrar los pmids\n",
    "    pubmedid=record['PMID']\n",
    "    pmid_dict.append(pubmedid)\n",
    "    \n",
    "    #mostrar los autores\n",
    "    autores=record['AU']\n",
    "    au_dict.append(autores)\n",
    "    \n",
    "    #mostrar los paises\n",
    "    paises=record['PL'] #He estado usando AD y me da SYNTAX ERROR, PL es place of publication\n",
    "    ad_dict.append(paises)\n",
    "    \n",
    "    #mostrar la fecha\n",
    "    fecha=record['DP']\n",
    "    dp_dict.append(fecha)\n",
    "\n",
    "\n",
    "#generar la sumatoria de autores\n",
    "contador=[len (i) for i in au_dict]\n",
    "\n",
    "#crear los data frames a partir de las listas obtenidas\n",
    "\n",
    "pub_year=pd.DataFrame(list(zip(pmid_dict,dp_dict)),columns=['PMID','DP_year'])\n",
    "pub_authors=pd.DataFrame(list(zip(pmid_dict,contador)),columns=['PMID','num_auth'])\n",
    "coutries=pd.DataFrame(list(zip(ad_dict,contador)),columns=['country','num_auth'])"
   ]
  },
  {
   "cell_type": "markdown",
   "metadata": {
    "jp-MarkdownHeadingCollapsed": true,
    "tags": []
   },
   "source": [
    "## Ejercicio 4 [2 puntos]\n",
    "\n",
    "Realice la visualización de los datos del ejercicio 3. \n",
    "\n",
    "* ```pubyear```: utilizando el conteo artículos por año, calcule la media y la desviación estandar (asumiendo que la distribución es normal). Realice un gráfico de la distribución normal de sus datos. Coloque el título, leyenda de los ejes \"x\" e \"y\", y la leyenda de la curva (utilice las expresiones matemáticas tipos latex de ser necesario). \n",
    "\n",
    "* ```pub_authors```: realice un boxplot del conteo de autores por artículo. Coloque las leyendas adecuadas para cada eje y el título.  \n",
    "\n",
    "* ```countries```: realice una nube de puntos (adaptación de su tarea), resalte al menos 3 países con flechas. Coloque las leyendas adecuadas para cada eje y el título. \n"
   ]
  },
  {
   "cell_type": "code",
   "execution_count": 158,
   "metadata": {
    "scrolled": true
   },
   "outputs": [
    {
     "data": {
      "image/png": "[encoded data removed]",
      "text/plain": [
       "<Figure size 432x288 with 1 Axes>"
      ]
     },
     "metadata": {
      "needs_background": "light"
     },
     "output_type": "display_data"
    },
    {
     "data": {
      "image/png": "[encoded data removed]",
      "text/plain": [
       "<Figure size 432x432 with 1 Axes>"
      ]
     },
     "metadata": {
      "needs_background": "light"
     },
     "output_type": "display_data"
    }
   ],
   "source": [
    "#EJERICICIO 4\n",
    "\n",
    "# librerias\n",
    "import matplotlib.pyplot as plt\n",
    "import matplotlib.mlab as mlab\n",
    "import math\n",
    "import pandas as pd\n",
    "\n",
    "#obtener solo los años de cada fecha\n",
    "pub_year['year'] = pd.DatetimeIndex(pub_year['DP_year']).year\n",
    "\n",
    "#extraer solo los años a una lista independiente\n",
    "años=pub_year['year'].values.tolist()\n",
    "\n",
    "#Sumar la cantidad de publicaciones por año\n",
    "conteo=[años.count(item)for item in set(años)]\n",
    "\n",
    "# calcular la media \n",
    "n = len(conteo)\n",
    "media = sum(conteo) / n\n",
    "\n",
    "#calcular desviaciones y varianza\n",
    "des = [(x - media) ** 2 for x in conteo]\n",
    "var = sum(des) / n\n",
    "\n",
    "#calcular la desviacion estandar\n",
    "desv_est = math.sqrt(var)\n",
    "\n",
    "#Gráfico\n",
    "\n",
    "# Definir parámetros para distribución normal\n",
    "import scipy.stats as stats\n",
    "\n",
    "params = [media,var,'blue']\n",
    "\n",
    "#establecer los valores y graficar\n",
    "#for media, var, color in params:\n",
    "sigma = math.sqrt(var)\n",
    "label = '$\\mu = %.1f, \\ \\sigma^2=%.1f$' %(media, var)\n",
    "y_norm = stats.norm.pdf(conteo, media, sigma)\n",
    "plt.plot(conteo, y_norm, label=label, c = color)\n",
    "    \n",
    "#Definir los limites y etiquetas\n",
    "plt.xlim(0,32)\n",
    "plt.ylim(0,0.2)\n",
    "plt.xlabel('X')\n",
    "plt.ylabel('$φ_{μ,σ^2}(X)$')\n",
    "plt.title('Distribución Normal')\n",
    "plt.legend(title = \"Parámetros\")\n",
    "plt.show()\n",
    "\n",
    "#Gráfic de Conteo de autores por artículo\n",
    "\n",
    "autores=pub_authors['num_auth'].values.tolist()\n",
    "\n",
    "# Create a figure instance\n",
    "fig = plt.figure(1, figsize=(6, 6))  # valores en inch (pulgada)\n",
    "\n",
    "# Create an axes instance\n",
    "ax = fig.add_subplot(111)\n",
    "\n",
    "# Create the boxplot\n",
    "bp = ax.boxplot(autores)\n",
    "plt.xlabel('Artpiculos')\n",
    "plt.ylabel('Autores')\n",
    "plt.title('Boxplots de distribuciones normales')\n",
    "plt.show()\n"
   ]
  },
  {
   "cell_type": "code",
   "execution_count": 144,
   "metadata": {},
   "outputs": [
    {
     "data": {
      "text/plain": [
       "[1, 1, 1, 1, 2, 2, 1, 2, 4, 3, 3, 7, 11, 15, 22, 19, 32, 20, 7]"
      ]
     },
     "execution_count": 144,
     "metadata": {},
     "output_type": "execute_result"
    }
   ],
   "source": [
    "conteo\n"
   ]
  },
  {
   "cell_type": "markdown",
   "metadata": {},
   "source": [
    "## Ejercicio 5 [1 punto]\n",
    "\n",
    "Interprete los resultados del **ejercicio 4**"
   ]
  },
  {
   "cell_type": "markdown",
   "metadata": {},
   "source": [
    "### En la primera gráfica se ve una linea aplanada apenas al nivel 0,lo que no refleja la realidad, dado que hemos asumido que la distribución anual es normal, sin embargo, al revisar el término de búsqueda directamente en Pubmed podemos ver como las publicaciones más bien se compartan de manera exponenecial respecto al tiempo, tal como se observa en la imagen, por otro lado si realizamos un histograma veremos que es similar a lo que sale en el NCBI, reflejando que el número de publicaciones ha ido en aumento año a año."
   ]
  },
  {
   "cell_type": "markdown",
   "metadata": {},
   "source": [
    "## Ejercicio 6 [2 puntos]\n",
    "\n",
    "Para algún gen de interés, realice lo siguiente: \n",
    "\n",
    "1. Una búsqueda en la página del [NCBI nucleotide](https://www.ncbi.nlm.nih.gov/nucleotide/).\n",
    "\n",
    "2. Descargue el ```Accession List``` de su búsqueda.\n",
    "\n",
    "3. Cargue el ```Accession List``` en este notebook y haga una descarga de la data tipo ```genbank``` utilizando los diez primeros IDs de accesión. \n",
    "\n",
    "4. Arme un árbol filogenético para los resultados del paso 3.\n",
    "\n",
    "5. Interprete el árbol del paso 4. "
   ]
  },
  {
   "cell_type": "code",
   "execution_count": 126,
   "metadata": {},
   "outputs": [],
   "source": [
    "from Bio import Entrez\n",
    "from Bio import SeqIO\n",
    "from Bio.SeqRecord import SeqRecord \n",
    "\n",
    "#Cargar el archivo obtenido de NCBI\n",
    "file = open('data/seqACE2.seq') \n",
    "\n",
    "#Generar una lita para almacenar los 10 primeros registros\n",
    "seq_id=[]\n",
    "\n",
    "#seleccionar los registros y guardarlos en la lista\n",
    "for each in file:\n",
    "    seq_id.append(each)\n",
    "    \n",
    "#seleccionar los 10 primeros registros de la lista y guardarlos nuevamente en otra lista\n",
    "seq_d=seq_id[0:10]\n",
    "\n",
    "#eliminar los saltos de linea \"\\n\"\n",
    "seq_d[:] = [s.replace('\\n', '') for s in seq_d]\n",
    "\n",
    "#ingresar email\n",
    "Entrez.email = \"manuela.moscoso@est.ikiam.edu.ec.com\"\n",
    "\n",
    "#creo el archivo\n",
    "secuencias=[]\n",
    "\n",
    "#guardar las secuencias dentro de una lista\n",
    "for item in seq_d:\n",
    "    with Entrez.efetch(db=\"nucleotide\", rettype=\"gb\", retmode=\"text\", id=item \n",
    "                      )as handle:\n",
    "        seq_record=SeqIO.read(handle, \"gb\")\n",
    "        secuencias.append(seq_record.seq)\n",
    "    \n",
    "#cambiar tipo de archivo    \n",
    "#SeqIO.write(secuencias, \"data/secuencias.faa\", \"fasta\")\n",
    "    \n",
    "    #for seq_record in SeqIO.parse(handle, \"gb\"): \n",
    "     #   print(\"%s %s...\" % (seq_record.id, seq_record.description[:50])) \n",
    "      #  print( \"Sequence length %i, %i features, from: %s\" % ( len(seq_record), \n",
    "       #                                                       len(seq_record.features), \n",
    "        #                                                      seq_record.annotations[\"source\"], ) )\n"
   ]
  },
  {
   "cell_type": "code",
   "execution_count": 99,
   "metadata": {},
   "outputs": [
    {
     "data": {
      "text/plain": [
       "'MW075233.1'"
      ]
     },
     "execution_count": 99,
     "metadata": {},
     "output_type": "execute_result"
    }
   ],
   "source": [
    "seq_d[1]"
   ]
  },
  {
   "cell_type": "code",
   "execution_count": null,
   "metadata": {},
   "outputs": [],
   "source": [
    "print(secuencias)"
   ]
  },
  {
   "cell_type": "code",
   "execution_count": 124,
   "metadata": {},
   "outputs": [
    {
     "ename": "AttributeError",
     "evalue": "'Seq' object has no attribute 'id'",
     "output_type": "error",
     "traceback": [
      "\u001b[1;31m---------------------------------------------------------------------------\u001b[0m",
      "\u001b[1;31mAttributeError\u001b[0m                            Traceback (most recent call last)",
      "\u001b[1;32m~\\AppData\\Local\\Temp/ipykernel_19328/1507416822.py\u001b[0m in \u001b[0;36m<module>\u001b[1;34m\u001b[0m\n\u001b[1;32m----> 1\u001b[1;33m \u001b[0mSeqIO\u001b[0m\u001b[1;33m.\u001b[0m\u001b[0mwrite\u001b[0m\u001b[1;33m(\u001b[0m\u001b[0msecuencias\u001b[0m\u001b[1;33m,\u001b[0m \u001b[1;34m\"secuencias.faa\"\u001b[0m\u001b[1;33m,\u001b[0m \u001b[1;34m\"fasta\"\u001b[0m\u001b[1;33m)\u001b[0m\u001b[1;33m\u001b[0m\u001b[1;33m\u001b[0m\u001b[0m\n\u001b[0m",
      "\u001b[1;32m~\\AppData\\Roaming\\Python\\Python39\\site-packages\\Bio\\SeqIO\\__init__.py\u001b[0m in \u001b[0;36mwrite\u001b[1;34m(sequences, handle, format)\u001b[0m\n\u001b[0;32m    516\u001b[0m         \u001b[1;32mwith\u001b[0m \u001b[0mas_handle\u001b[0m\u001b[1;33m(\u001b[0m\u001b[0mhandle\u001b[0m\u001b[1;33m,\u001b[0m \u001b[1;34m\"w\"\u001b[0m\u001b[1;33m)\u001b[0m \u001b[1;32mas\u001b[0m \u001b[0mfp\u001b[0m\u001b[1;33m:\u001b[0m\u001b[1;33m\u001b[0m\u001b[1;33m\u001b[0m\u001b[0m\n\u001b[0;32m    517\u001b[0m             \u001b[1;32mfor\u001b[0m \u001b[0mrecord\u001b[0m \u001b[1;32min\u001b[0m \u001b[0msequences\u001b[0m\u001b[1;33m:\u001b[0m\u001b[1;33m\u001b[0m\u001b[1;33m\u001b[0m\u001b[0m\n\u001b[1;32m--> 518\u001b[1;33m                 \u001b[0mfp\u001b[0m\u001b[1;33m.\u001b[0m\u001b[0mwrite\u001b[0m\u001b[1;33m(\u001b[0m\u001b[0mformat_function\u001b[0m\u001b[1;33m(\u001b[0m\u001b[0mrecord\u001b[0m\u001b[1;33m)\u001b[0m\u001b[1;33m)\u001b[0m\u001b[1;33m\u001b[0m\u001b[1;33m\u001b[0m\u001b[0m\n\u001b[0m\u001b[0;32m    519\u001b[0m                 \u001b[0mcount\u001b[0m \u001b[1;33m+=\u001b[0m \u001b[1;36m1\u001b[0m\u001b[1;33m\u001b[0m\u001b[1;33m\u001b[0m\u001b[0m\n\u001b[0;32m    520\u001b[0m         \u001b[1;32mreturn\u001b[0m \u001b[0mcount\u001b[0m\u001b[1;33m\u001b[0m\u001b[1;33m\u001b[0m\u001b[0m\n",
      "\u001b[1;32m~\\AppData\\Roaming\\Python\\Python39\\site-packages\\Bio\\SeqIO\\FastaIO.py\u001b[0m in \u001b[0;36mas_fasta\u001b[1;34m(record)\u001b[0m\n\u001b[0;32m    374\u001b[0m     \u001b[0mmethod\u001b[0m \u001b[1;32mand\u001b[0m \u001b[0mby\u001b[0m \u001b[0mthe\u001b[0m \u001b[0mSeqIO\u001b[0m\u001b[1;33m.\u001b[0m\u001b[0mwrite\u001b[0m\u001b[1;33m(\u001b[0m\u001b[1;33m...\u001b[0m\u001b[1;33m,\u001b[0m \u001b[1;33m...\u001b[0m\u001b[1;33m,\u001b[0m \u001b[1;34m\"fasta\"\u001b[0m\u001b[1;33m)\u001b[0m \u001b[0mfunction\u001b[0m\u001b[1;33m.\u001b[0m\u001b[1;33m\u001b[0m\u001b[1;33m\u001b[0m\u001b[0m\n\u001b[0;32m    375\u001b[0m     \"\"\"\n\u001b[1;32m--> 376\u001b[1;33m     \u001b[0mid\u001b[0m \u001b[1;33m=\u001b[0m \u001b[0m_clean\u001b[0m\u001b[1;33m(\u001b[0m\u001b[0mrecord\u001b[0m\u001b[1;33m.\u001b[0m\u001b[0mid\u001b[0m\u001b[1;33m)\u001b[0m\u001b[1;33m\u001b[0m\u001b[1;33m\u001b[0m\u001b[0m\n\u001b[0m\u001b[0;32m    377\u001b[0m     \u001b[0mdescription\u001b[0m \u001b[1;33m=\u001b[0m \u001b[0m_clean\u001b[0m\u001b[1;33m(\u001b[0m\u001b[0mrecord\u001b[0m\u001b[1;33m.\u001b[0m\u001b[0mdescription\u001b[0m\u001b[1;33m)\u001b[0m\u001b[1;33m\u001b[0m\u001b[1;33m\u001b[0m\u001b[0m\n\u001b[0;32m    378\u001b[0m     \u001b[1;32mif\u001b[0m \u001b[0mdescription\u001b[0m \u001b[1;32mand\u001b[0m \u001b[0mdescription\u001b[0m\u001b[1;33m.\u001b[0m\u001b[0msplit\u001b[0m\u001b[1;33m(\u001b[0m\u001b[1;32mNone\u001b[0m\u001b[1;33m,\u001b[0m \u001b[1;36m1\u001b[0m\u001b[1;33m)\u001b[0m\u001b[1;33m[\u001b[0m\u001b[1;36m0\u001b[0m\u001b[1;33m]\u001b[0m \u001b[1;33m==\u001b[0m \u001b[0mid\u001b[0m\u001b[1;33m:\u001b[0m\u001b[1;33m\u001b[0m\u001b[1;33m\u001b[0m\u001b[0m\n",
      "\u001b[1;31mAttributeError\u001b[0m: 'Seq' object has no attribute 'id'"
     ]
    }
   ],
   "source": [
    "SeqIO.write(secuencias, \"secuencias.faa\", \"fasta\")"
   ]
  },
  {
   "cell_type": "markdown",
   "metadata": {},
   "source": [
    "**Escriba aquí la interpretación del árbol**"
   ]
  },
  {
   "cell_type": "markdown",
   "metadata": {},
   "source": [
    "## Ejercicio 7 [1 punto]\n",
    "\n",
    "\n",
    "1. Cree en GitHub un repositorio de nombre ```GBI6_ExamenPython```. \n",
    "2. Cree un archivo ```Readme.md``` que debe tener lo siguiente: \n",
    "- Datos personales\n",
    "- Características del computador\n",
    "- Versión de Python/Anaconda y de cada uno de los módulos/paquetes y utilizados\n",
    "- Explicación de la data utilizada\n",
    "\n",
    "3. Cree un directorio de nombre ```data``` donde deben estar guardado la data utilizada \n",
    "4. Realice al menos 1 control de la versión (commits) por cada ejercicio (del 1 al 6), con un mensaje que inicie como: \n",
    "\n",
    "```sh \n",
    "Carlitos Alimaña ha realizado .....  \n",
    "```"
   ]
  }
 ],
 "metadata": {
  "kernelspec": {
   "display_name": "Python 3 (ipykernel)",
   "language": "python",
   "name": "python3"
  },
  "language_info": {
   "codemirror_mode": {
    "name": "ipython",
    "version": 3
   },
   "file_extension": ".py",
   "mimetype": "text/x-python",
   "name": "python",
   "nbconvert_exporter": "python",
   "pygments_lexer": "ipython3",
   "version": "3.9.7"
  },
  "latex_envs": {
   "LaTeX_envs_menu_present": true,
   "autoclose": false,
   "autocomplete": true,
   "bibliofile": "biblio.bib",
   "cite_by": "apalike",
   "current_citInitial": 1,
   "eqLabelWithNumbers": true,
   "eqNumInitial": 1,
   "hotkeys": {
    "equation": "Ctrl-E",
    "itemize": "Ctrl-I"
   },
   "labels_anchors": false,
   "latex_user_defs": false,
   "report_style_numbering": false,
   "user_envs_cfg": false
  },
  "toc": {
   "base_numbering": 1,
   "nav_menu": {},
   "number_sections": true,
   "sideBar": false,
   "skip_h1_title": false,
   "title_cell": "Table of Contents",
   "title_sidebar": "Contents",
   "toc_cell": false,
   "toc_position": {
    "height": "1152.67px",
    "left": "41px",
    "top": "110px",
    "width": "253.458px"
   },
   "toc_section_display": true,
   "toc_window_display": false
  },
  "varInspector": {
   "cols": {
    "lenName": 16,
    "lenType": 16,
    "lenVar": 40
   },
   "kernels_config": {
    "python": {
     "delete_cmd_postfix": "",
     "delete_cmd_prefix": "del ",
     "library": "var_list.py",
     "varRefreshCmd": "print(var_dic_list())"
    },
    "r": {
     "delete_cmd_postfix": ") ",
     "delete_cmd_prefix": "rm(",
     "library": "var_list.r",
     "varRefreshCmd": "cat(var_dic_list()) "
    }
   },
   "types_to_exclude": [
    "module",
    "function",
    "builtin_function_or_method",
    "instance",
    "_Feature"
   ],
   "window_display": false
  }
 },
 "nbformat": 4,
 "nbformat_minor": 4
}
